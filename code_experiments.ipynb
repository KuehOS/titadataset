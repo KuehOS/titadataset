{
 "cells": [
  {
   "cell_type": "code",
   "execution_count": 7,
   "metadata": {},
   "outputs": [],
   "source": [
    "#import\n",
    "%matplotlib inline\n",
    "\n",
    "import pandas as pd\n",
    "import numpy as np\n",
    "import matplotlib.pyplot as plt\n",
    "import seaborn as sns\n",
    "#import plotly as py\n",
    "\n",
    "sns.set(style=\"darkgrid\")\n",
    "#Read\n",
    "df = pd.read_csv(\"train.csv\")\n",
    "#Column names reset\n",
    "df.columns = ['id', 'surv', 'pcclass', 'name', 'sex', 'age', 'sibsp', 'parch','ticket','fare','cabin', 'embarked']"
   ]
  },
  {
   "cell_type": "code",
   "execution_count": 8,
   "metadata": {
    "scrolled": true
   },
   "outputs": [
    {
     "data": {
      "text/plain": [
       "array(['S', 'C', 'Q', nan], dtype=object)"
      ]
     },
     "execution_count": 8,
     "metadata": {},
     "output_type": "execute_result"
    }
   ],
   "source": [
    "df.embarked.unique()"
   ]
  },
  {
   "cell_type": "code",
   "execution_count": 25,
   "metadata": {},
   "outputs": [
    {
     "data": {
      "text/plain": [
       "array([3, 1, 2], dtype=int64)"
      ]
     },
     "execution_count": 25,
     "metadata": {},
     "output_type": "execute_result"
    }
   ],
   "source": [
    "df.pcclass.unique()"
   ]
  },
  {
   "cell_type": "code",
   "execution_count": 26,
   "metadata": {},
   "outputs": [
    {
     "name": "stdout",
     "output_type": "stream",
     "text": [
      "491\n"
     ]
    }
   ],
   "source": [
    "ces = list(df.pcclass)\n",
    "print(ces.count(3))"
   ]
  },
  {
   "cell_type": "code",
   "execution_count": 24,
   "metadata": {},
   "outputs": [
    {
     "name": "stdout",
     "output_type": "stream",
     "text": [
      "     surv  cabin     sex   age embarked  \\\n",
      "10      1     G6  female   4.0        S   \n",
      "75      0  F G73    male  25.0        S   \n",
      "128     1  F E69  female   NaN        C   \n",
      "205     0     G6  female   2.0        S   \n",
      "251     0     G6  female  29.0        S   \n",
      "394     1     G6  female  24.0        S   \n",
      "429     1    E10    male  32.0        S   \n",
      "699     0  F G63    male  42.0        S   \n",
      "715     0  F G73    male  19.0        S   \n",
      "751     1   E121    male   6.0        S   \n",
      "776     0    F38    male   NaN        Q   \n",
      "823     1   E121  female  27.0        S   \n",
      "\n",
      "                                                  name  \n",
      "10                     Sandstrom, Miss. Marguerite Rut  \n",
      "75                             Moen, Mr. Sigurd Hansen  \n",
      "128                                  Peter, Miss. Anna  \n",
      "205                         Strom, Miss. Telma Matilda  \n",
      "251         Strom, Mrs. Wilhelm (Elna Matilda Persson)  \n",
      "394  Sandstrom, Mrs. Hjalmar (Agnes Charlotta Bengt...  \n",
      "429                 Pickard, Mr. Berk (Berk Trembisky)  \n",
      "699           Humblen, Mr. Adolf Mathias Nicolai Olsen  \n",
      "715         Soholt, Mr. Peter Andreas Lauritz Andersen  \n",
      "751                                Moor, Master. Meier  \n",
      "776                                   Tobin, Mr. Roger  \n",
      "823                                 Moor, Mrs. (Beila)  \n"
     ]
    }
   ],
   "source": [
    "def demasking_nan (column, dataframe):\n",
    "    a= dataframe[column]\n",
    "    mask_column = [i for i, e in enumerate(list(a)) if pd.notnull(e) == True]\n",
    "    return list(mask_column)\n",
    "\n",
    "mask_pc3 = masking(\"pcclass\", 3, df) \n",
    "\n",
    "mask_cabin_nan = demasking_nan(\"cabin\", df)\n",
    "\n",
    "mask_cabin_pc3 = mask_merge(mask_pc3, mask_cabin_nan)\n",
    "\n",
    "cabin_nan_pc3 = df.loc[mask_cabin_pc3]\n",
    "\n",
    "\n",
    "print(cabin_nan_pc3[[\"surv\", \"cabin\", \"sex\", \"age\", \"embarked\", \"name\"]])"
   ]
  },
  {
   "cell_type": "code",
   "execution_count": 27,
   "metadata": {},
   "outputs": [
    {
     "data": {
      "text/plain": [
       "array([1, 0, 3, 4, 2, 5, 8], dtype=int64)"
      ]
     },
     "execution_count": 27,
     "metadata": {},
     "output_type": "execute_result"
    }
   ],
   "source": [
    "df.sibsp.unique()"
   ]
  },
  {
   "cell_type": "code",
   "execution_count": 28,
   "metadata": {},
   "outputs": [
    {
     "data": {
      "text/plain": [
       "array([0, 1, 2, 5, 3, 4, 6], dtype=int64)"
      ]
     },
     "execution_count": 28,
     "metadata": {},
     "output_type": "execute_result"
    }
   ],
   "source": [
    "df.parch.unique()"
   ]
  },
  {
   "cell_type": "code",
   "execution_count": 29,
   "metadata": {
    "scrolled": true
   },
   "outputs": [
    {
     "name": "stdout",
     "output_type": "stream",
     "text": [
      "7\n",
      "5\n",
      "18\n",
      "16\n",
      "28\n",
      "209\n",
      "608\n"
     ]
    }
   ],
   "source": [
    "sib_list = list(df.sibsp)\n",
    "print(sib_list.count(8))\n",
    "print(sib_list.count(5))\n",
    "print(sib_list.count(4))\n",
    "print(sib_list.count(3))\n",
    "print(sib_list.count(2))\n",
    "print(sib_list.count(1))\n",
    "print(sib_list.count(0))"
   ]
  },
  {
   "cell_type": "code",
   "execution_count": 30,
   "metadata": {},
   "outputs": [
    {
     "name": "stdout",
     "output_type": "stream",
     "text": [
      "1\n",
      "5\n",
      "4\n",
      "5\n",
      "80\n",
      "118\n",
      "678\n"
     ]
    }
   ],
   "source": [
    "par_list = list(df.parch)\n",
    "print(par_list.count(6))\n",
    "print(par_list.count(5))\n",
    "print(par_list.count(4))\n",
    "print(par_list.count(3))\n",
    "print(par_list.count(2))\n",
    "print(par_list.count(1))\n",
    "print(par_list.count(0))"
   ]
  },
  {
   "cell_type": "code",
   "execution_count": 31,
   "metadata": {},
   "outputs": [],
   "source": [
    "def masking (column, attribute, dataframe):\n",
    "    a= dataframe[column]\n",
    "    mask_column = [i for i, e in enumerate(list(a)) if e == attribute]\n",
    "    return list(mask_column)\n",
    "\n",
    "def mask_merge(list1, list2):\n",
    "    merged_mask = []\n",
    "    for a in list1:\n",
    "        if a in list2:\n",
    "            merged_mask.append(a)\n",
    "    return merged_mask\n",
    "\n",
    "#conditional survival rate\n",
    "def con_surv(mask):\n",
    "    df_new = df.loc[mask]\n",
    "    con_sur_rate = df_new.surv.sum()/len(list(df_new.surv))\n",
    "    return con_sur_rate"
   ]
  },
  {
   "cell_type": "code",
   "execution_count": 32,
   "metadata": {},
   "outputs": [],
   "source": [
    "mask_sing1 = masking(\"sibsp\", 0, df)\n",
    "mask_sing2 = masking(\"parch\", 0, df)\n",
    "\n",
    "mask_sing = mask_merge(mask_sing1, mask_sing2)\n",
    "\n",
    "bes = df.name.loc[mask_sing]\n"
   ]
  },
  {
   "cell_type": "code",
   "execution_count": 33,
   "metadata": {},
   "outputs": [
    {
     "name": "stdout",
     "output_type": "stream",
     "text": [
      "0.5117370892018779\n",
      "0.6981132075471698\n",
      "0.78\n",
      "0.3\n",
      "53\n",
      "50\n",
      "110\n"
     ]
    }
   ],
   "source": [
    "def masking2 (column, attribute, dataframe):\n",
    "    a= dataframe[column]\n",
    "    mask_column = [i for i, e in enumerate(list(a)) if e != attribute]\n",
    "    return list(mask_column)\n",
    "\n",
    "mask_parch_high = masking2(\"parch\", 0, df)\n",
    "ves = con_surv(mask_parch_high)\n",
    "print(ves)\n",
    "\n",
    "mask_pc1 = masking(\"pcclass\", 1, df)\n",
    "mask_pc2 = masking(\"pcclass\", 2, df)\n",
    "\n",
    "m1 = mask_merge(mask_pc1, mask_parch_high)\n",
    "m2 = mask_merge(mask_pc2, mask_parch_high)\n",
    "m3 = mask_merge(mask_pc3, mask_parch_high)\n",
    "\n",
    "zes = con_surv(m1)\n",
    "des = con_surv(m2)\n",
    "hes = con_surv(m3)\n",
    "\n",
    "print(zes)\n",
    "print(des)\n",
    "print(hes)\n",
    "\n",
    "print(len(m1))\n",
    "print(len(m2))\n",
    "print(len(m3))\n",
    "\n"
   ]
  },
  {
   "cell_type": "code",
   "execution_count": 34,
   "metadata": {},
   "outputs": [
    {
     "name": "stdout",
     "output_type": "stream",
     "text": [
      "0.4664310954063604\n",
      "0.6981132075471698\n",
      "0.78\n",
      "0.3\n",
      "79\n",
      "64\n",
      "140\n"
     ]
    }
   ],
   "source": [
    "mask_sibsp_high = masking2(\"sibsp\", 0, df)\n",
    "vas = con_surv(mask_sibsp_high)\n",
    "print(vas)\n",
    "\n",
    "\n",
    "n1 = mask_merge(mask_pc1, mask_sibsp_high)\n",
    "n2 = mask_merge(mask_pc2, mask_sibsp_high)\n",
    "n3 = mask_merge(mask_pc3, mask_sibsp_high)\n",
    "\n",
    "zas = con_surv(m1)\n",
    "das = con_surv(m2)\n",
    "has = con_surv(m3)\n",
    "\n",
    "print(zas)\n",
    "print(das)\n",
    "print(has)\n",
    "\n",
    "print(len(n1))\n",
    "print(len(n2))\n",
    "print(len(n3))"
   ]
  },
  {
   "cell_type": "code",
   "execution_count": 35,
   "metadata": {},
   "outputs": [
    {
     "name": "stdout",
     "output_type": "stream",
     "text": [
      "0.31521739130434784\n",
      "0.43452380952380953\n",
      "0.4675324675324675\n",
      "\n",
      "0.1972049689440994\n",
      "0.2546583850931677\n",
      "0.5481366459627329\n",
      "\n",
      "0.5059523809523809\n",
      "0.10119047619047619\n",
      "0.39285714285714285\n",
      "\n",
      "0.025974025974025976\n",
      "0.025974025974025976\n",
      "0.935064935064935\n",
      "\n",
      "0.7244094488188977\n",
      "0.1889763779527559\n",
      "0.08661417322834646\n"
     ]
    }
   ],
   "source": [
    "def con_fem(mask):\n",
    "    df_new = df.loc[mask]\n",
    "    f = list(df_new.sex)\n",
    "    con_fem_rate = f.count(\"female\")/len(f)\n",
    "    return con_fem_rate\n",
    "\n",
    "def con_pcclass(mask, pcclass):\n",
    "    df_new = df.loc[mask]\n",
    "    f = list(df_new.pcclass)\n",
    "    con_pcclass_rate = f.count(pcclass)/len(f)\n",
    "    return con_pcclass_rate\n",
    "\n",
    "mask_S = masking (\"embarked\", \"S\", df)\n",
    "mask_C = masking (\"embarked\", \"C\", df)\n",
    "mask_Q = masking (\"embarked\", \"Q\", df)\n",
    "\n",
    "fes1 = con_fem(mask_S)\n",
    "fes2 = con_fem(mask_C)\n",
    "fes3 = con_fem(mask_Q)\n",
    "les11 = con_pcclass(mask_S, 1)\n",
    "les12 = con_pcclass(mask_S, 2)\n",
    "les13 = con_pcclass(mask_S, 3)\n",
    "les21 = con_pcclass(mask_C, 1)\n",
    "les22 = con_pcclass(mask_C, 2)\n",
    "les23 = con_pcclass(mask_C, 3)\n",
    "les31 = con_pcclass(mask_Q, 1)\n",
    "les32 = con_pcclass(mask_Q, 2)\n",
    "les33 = con_pcclass(mask_Q, 3)\n",
    "\n",
    "jes = list(df.embarked)\n",
    "\n",
    "es1_all=jes.count(\"S\")/(len(jes)-2)\n",
    "es2_all=jes.count(\"C\")/(len(jes)-2)\n",
    "es3_all=jes.count(\"Q\")/(len(jes)-2)\n",
    "\n",
    "print(fes1)\n",
    "print(fes2)\n",
    "print(fes3)\n",
    "print()\n",
    "print(les11)\n",
    "print(les12)\n",
    "print(les13)\n",
    "print()\n",
    "print(les21)\n",
    "print(les22)\n",
    "print(les23)\n",
    "print()\n",
    "print(les31)\n",
    "print(les31)\n",
    "print(les33)\n",
    "print()\n",
    "print(es1_all)\n",
    "print(es2_all)\n",
    "print(es3_all)\n"
   ]
  },
  {
   "cell_type": "code",
   "execution_count": null,
   "metadata": {},
   "outputs": [],
   "source": [
    "#masking conditionals\n",
    "def freq_age_groups(dat1):\n",
    "    age_0_20 = 0\n",
    "    age_20_60 = 0 \n",
    "    age_60 = 0\n",
    "    for ages in dat1[\"age\"]:\n",
    "        if ages <= 14:\n",
    "            age_0_20 += 1\n",
    "        elif 20 < ages <= 60:\n",
    "            age_20_60 += 1\n",
    "        else:\n",
    "            age_60 += 1\n",
    "    age_list = [age_0_20, age_20_60 , age_60]        \n",
    "    return age_list\n"
   ]
  },
  {
   "cell_type": "code",
   "execution_count": 38,
   "metadata": {},
   "outputs": [
    {
     "name": "stdout",
     "output_type": "stream",
     "text": [
      "[22.0, 38.0, 26.0, 35.0, 35.0, nan, 54.0, 2.0, 27.0, 14.0, 4.0, 58.0, 20.0, 39.0, 14.0, 55.0, 2.0, nan, 31.0, nan, 35.0, 34.0, 15.0, 28.0, 8.0, 38.0, nan, 19.0, nan, nan, 40.0, nan, nan, 66.0, 28.0, 42.0, nan, 21.0, 18.0, 14.0, 40.0, 27.0, nan, 3.0, 19.0, nan, nan, nan, nan, 18.0, 7.0, 21.0, 49.0, 29.0, 65.0, nan, 21.0, 28.5, 5.0, 11.0, 22.0, 38.0, 45.0, 4.0, nan, nan, 29.0, 19.0, 17.0, 26.0, 32.0, 16.0, 21.0, 26.0, 32.0, 25.0, nan, nan, 0.83, 30.0, 22.0, 29.0, nan, 28.0, 17.0, 33.0, 16.0, nan, 23.0, 24.0, 29.0, 20.0, 46.0, 26.0, 59.0, nan, 71.0, 23.0, 34.0, 34.0, 28.0, nan, 21.0, 33.0, 37.0, 28.0, 21.0, nan, 38.0, nan, 47.0, 14.5, 22.0, 20.0, 17.0, 21.0, 70.5, 29.0, 24.0, 2.0, 21.0, nan, 32.5, 32.5, 54.0, 12.0, nan, 24.0, nan, 45.0, 33.0, 20.0, 47.0, 29.0, 25.0, 23.0, 19.0, 37.0, 16.0, 24.0, nan, 22.0, 24.0, 19.0, 18.0, 19.0, 27.0, 9.0, 36.5, 42.0, 51.0, 22.0, 55.5, 40.5, nan, 51.0, 16.0, 30.0, nan, nan, 44.0, 40.0, 26.0, 17.0, 1.0, 9.0, nan, 45.0, nan, 28.0, 61.0, 4.0, 1.0, 21.0, 56.0, 18.0, nan, 50.0, 30.0, 36.0, nan, nan, 9.0, 1.0, 4.0, nan, nan, 45.0, 40.0, 36.0, 32.0, 19.0, 19.0, 3.0, 44.0, 58.0, nan, 42.0, nan, 24.0, 28.0, nan, 34.0, 45.5, 18.0, 2.0, 32.0, 26.0, 16.0, 40.0, 24.0, 35.0, 22.0, 30.0, nan, 31.0, 27.0, 42.0, 32.0, 30.0, 16.0, 27.0, 51.0, nan, 38.0, 22.0, 19.0, 20.5, 18.0, nan, 35.0, 29.0, 59.0, 5.0, 24.0, nan, 44.0, 8.0, 19.0, 33.0, nan, nan, 29.0, 22.0, 30.0, 44.0, 25.0, 24.0, 37.0, 54.0, nan, 29.0, 62.0, 30.0, 41.0, 29.0, nan, 30.0, 35.0, 50.0, nan, 3.0, 52.0, 40.0, nan, 36.0, 16.0, 25.0, 58.0, 35.0, nan, 25.0, 41.0, 37.0, nan, 63.0, 45.0, nan, 7.0, 35.0, 65.0, 28.0, 16.0, 19.0, nan, 33.0, 30.0, 22.0, 42.0, 22.0, 26.0, 19.0, 36.0, 24.0, 24.0, nan, 23.5, 2.0, nan, 50.0, nan, nan, 19.0, nan, nan, 0.92, nan, 17.0, 30.0, 30.0, 24.0, 18.0, 26.0, 28.0, 43.0, 26.0, 24.0, 54.0, 31.0, 40.0, 22.0, 27.0, 30.0, 22.0, nan, 36.0, 61.0, 36.0, 31.0, 16.0, nan, 45.5, 38.0, 16.0, nan, nan, 29.0, 41.0, 45.0, 45.0, 2.0, 24.0, 28.0, 25.0, 36.0, 24.0, 40.0, nan, 3.0, 42.0, 23.0, nan, 15.0, 25.0, nan, 28.0, 22.0, 38.0, nan, nan, 40.0, 29.0, 45.0, 35.0, nan, 30.0, 60.0, nan, nan, 24.0, 25.0, 18.0, 19.0, 22.0, 3.0, nan, 22.0, 27.0, 20.0, 19.0, 42.0, 1.0, 32.0, 35.0, nan, 18.0, 1.0, 36.0, nan, 17.0, 36.0, 21.0, 28.0, 23.0, 24.0, 22.0, 31.0, 46.0, 23.0, 28.0, 39.0, 26.0, 21.0, 28.0, 20.0, 34.0, 51.0, 3.0, 21.0, nan, nan, nan, 33.0, nan, 44.0, nan, 34.0, 18.0, 30.0, 10.0, nan, 21.0, 29.0, 28.0, 18.0, nan, 28.0, 19.0, nan, 32.0, 28.0, nan, 42.0, 17.0, 50.0, 14.0, 21.0, 24.0, 64.0, 31.0, 45.0, 20.0, 25.0, 28.0, nan, 4.0, 13.0, 34.0, 5.0, 52.0, 36.0, nan, 30.0, 49.0, nan, 29.0, 65.0, nan, 50.0, nan, 48.0, 34.0, 47.0, 48.0, nan, 38.0, nan, 56.0, nan, 0.75, nan, 38.0, 33.0, 23.0, 22.0, nan, 34.0, 29.0, 22.0, 2.0, 9.0, nan, 50.0, 63.0, 25.0, nan, 35.0, 58.0, 30.0, 9.0, nan, 21.0, 55.0, 71.0, 21.0, nan, 54.0, nan, 25.0, 24.0, 17.0, 21.0, nan, 37.0, 16.0, 18.0, 33.0, nan, 28.0, 26.0, 29.0, nan, 36.0, 54.0, 24.0, 47.0, 34.0, nan, 36.0, 32.0, 30.0, 22.0, nan, 44.0, nan, 40.5, 50.0, nan, 39.0, 23.0, 2.0, nan, 17.0, nan, 30.0, 7.0, 45.0, 30.0, nan, 22.0, 36.0, 9.0, 11.0, 32.0, 50.0, 64.0, 19.0, nan, 33.0, 8.0, 17.0, 27.0, nan, 22.0, 22.0, 62.0, 48.0, nan, 39.0, 36.0, nan, 40.0, 28.0, nan, nan, 24.0, 19.0, 29.0, nan, 32.0, 62.0, 53.0, 36.0, nan, 16.0, 19.0, 34.0, 39.0, nan, 32.0, 25.0, 39.0, 54.0, 36.0, nan, 18.0, 47.0, 60.0, 22.0, nan, 35.0, 52.0, 47.0, nan, 37.0, 36.0, nan, 49.0, nan, 49.0, 24.0, nan, nan, 44.0, 35.0, 36.0, 30.0, 27.0, 22.0, 40.0, 39.0, nan, nan, nan, 35.0, 24.0, 34.0, 26.0, 4.0, 26.0, 27.0, 42.0, 20.0, 21.0, 21.0, 61.0, 57.0, 21.0, 26.0, nan, 80.0, 51.0, 32.0, nan, 9.0, 28.0, 32.0, 31.0, 41.0, nan, 20.0, 24.0, 2.0, nan, 0.75, 48.0, 19.0, 56.0, nan, 23.0, nan, 18.0, 21.0, nan, 18.0, 24.0, nan, 32.0, 23.0, 58.0, 50.0, 40.0, 47.0, 36.0, 20.0, 32.0, 25.0, nan, 43.0, nan, 40.0, 31.0, 70.0, 31.0, nan, 18.0, 24.5, 18.0, 43.0, 36.0, nan, 27.0, 20.0, 14.0, 60.0, 25.0, 14.0, 19.0, 18.0, 15.0, 31.0, 4.0, nan, 25.0, 60.0, 52.0, 44.0, nan, 49.0, 42.0, 18.0, 35.0, 18.0, 25.0, 26.0, 39.0, 45.0, 42.0, 22.0, nan, 24.0, nan, 48.0, 29.0, 52.0, 19.0, 38.0, 27.0, nan, 33.0, 6.0, 17.0, 34.0, 50.0, 27.0, 20.0, 30.0, nan, 25.0, 25.0, 29.0, 11.0, nan, 23.0, 23.0, 28.5, 48.0, 35.0, nan, nan, nan, 36.0, 21.0, 24.0, 31.0, 70.0, 16.0, 30.0, 19.0, 31.0, 4.0, 6.0, 33.0, 23.0, 48.0, 0.67, 28.0, 18.0, 34.0, 33.0, nan, 41.0, 20.0, 36.0, 16.0, 51.0, nan, 30.5, nan, 32.0, 24.0, 48.0, 57.0, nan, 54.0, 18.0, nan, 5.0, nan, 43.0, 13.0, 17.0, 29.0, nan, 25.0, 25.0, 18.0, 8.0, 1.0, 46.0, nan, 16.0, nan, nan, 25.0, 39.0, 49.0, 31.0, 30.0, 30.0, 34.0, 31.0, 11.0, 0.42, 27.0, 31.0, 39.0, 18.0, 39.0, 33.0, 26.0, 39.0, 35.0, 6.0, 30.5, nan, 23.0, 31.0, 43.0, 10.0, 52.0, 27.0, 38.0, 27.0, 2.0, nan, nan, 1.0, nan, 62.0, 15.0, 0.83, nan, 23.0, 18.0, 39.0, 21.0, nan, 32.0, nan, 20.0, 16.0, 30.0, 34.5, 17.0, 42.0, nan, 35.0, 28.0, nan, 4.0, 74.0, 9.0, 16.0, 44.0, 18.0, 45.0, 51.0, 24.0, nan, 41.0, 21.0, 48.0, nan, 24.0, 42.0, 27.0, 31.0, nan, 4.0, 26.0, 47.0, 33.0, 47.0, 28.0, 15.0, 20.0, 19.0, nan, 56.0, 25.0, 33.0, 22.0, 28.0, 25.0, 39.0, 27.0, 19.0, nan, 26.0, 32.0]\n"
     ]
    }
   ],
   "source": [
    "print(list(df.age))"
   ]
  },
  {
   "cell_type": "code",
   "execution_count": 40,
   "metadata": {},
   "outputs": [],
   "source": [
    "def masking3(column, attribute1, attribute2, dataframe):\n",
    "    a= dataframe[column]\n",
    "    mask_column = [i for i, e in enumerate(list(a)) if attribute1 <= e < attribute2]\n",
    "    return list(mask_column)\n",
    "\n",
    "\n",
    "def masking2 (column, attribute, dataframe):\n",
    "    a= dataframe[column]\n",
    "    mask_column = [i for i, e in enumerate(list(a)) if e != attribute]\n",
    "    return list(mask_column)"
   ]
  },
  {
   "cell_type": "code",
   "execution_count": 41,
   "metadata": {},
   "outputs": [],
   "source": [
    "mask_age_0_15 = masking3(\"age\", 0 , 15, df)\n",
    "mask_age_15_20 = masking3(\"age\", 15 , 20, df)\n",
    "mask_age_20_40 = masking3(\"age\", 20 , 40, df)\n",
    "mask_age_40_100 = masking3(\"age\", 40, 100, df)"
   ]
  },
  {
   "cell_type": "code",
   "execution_count": 43,
   "metadata": {},
   "outputs": [
    {
     "name": "stdout",
     "output_type": "stream",
     "text": [
      "0.5769230769230769\n",
      "0.3953488372093023\n",
      "0.3875968992248062\n",
      "0.37423312883435583\n"
     ]
    }
   ],
   "source": [
    "surv_rate_age_0_15 = con_surv(mask_age_0_15)\n",
    "surv_rate_age_15_20 = con_surv(mask_age_15_20)\n",
    "surv_rate_age_20_40 = con_surv(mask_age_20_40)\n",
    "surv_rate_age_40_100 = con_surv(mask_age_40_100)\n",
    "print(surv_rate_age_0_15)\n",
    "print(surv_rate_age_15_20)\n",
    "print(surv_rate_age_20_40)\n",
    "print(surv_rate_age_40_100)"
   ]
  },
  {
   "cell_type": "code",
   "execution_count": 44,
   "metadata": {},
   "outputs": [
    {
     "name": "stdout",
     "output_type": "stream",
     "text": [
      "0.3838383838383838\n"
     ]
    }
   ],
   "source": [
    "survival_rate = df.surv.sum()/len(df.surv)\n",
    "print(survival_rate)"
   ]
  },
  {
   "cell_type": "code",
   "execution_count": 83,
   "metadata": {},
   "outputs": [],
   "source": [
    "def con_surv(mask):\n",
    "    df_new = df.loc[mask]\n",
    "    con_sur_rate = df_new.surv.sum()/len(list(df_new.surv))\n",
    "    return con_sur_rate\n",
    "\n",
    "def mask_3_merge(mask1, mask2, mask3):\n",
    "    merged_mask1 = []\n",
    "    merged_mask2 = []\n",
    "    for a in mask1:\n",
    "        if a in mask2:\n",
    "            merged_mask1.append(a)\n",
    "    for b in merged_mask1:\n",
    "        if b in mask3:\n",
    "            merged_mask2.append(b)\n",
    "    return con_surv(merged_mask2)\n",
    "\n",
    "def masking3(column, attribute1, attribute2, dataframe):\n",
    "    a= dataframe[column]\n",
    "    mask_column = [i for i, e in enumerate(list(a)) if attribute1 <= e < attribute2]\n",
    "    return list(mask_column)\n",
    "\n",
    "def masking_cat(column, attribute1, attribute2, dataframe):\n",
    "    a= dataframe[column]\n",
    "    mask_column = [i for i, e in enumerate(list(a)) if attribute1 <= e < attribute2]\n",
    "    return list(mask_column)"
   ]
  },
  {
   "cell_type": "code",
   "execution_count": 133,
   "metadata": {},
   "outputs": [
    {
     "name": "stdout",
     "output_type": "stream",
     "text": [
      "   id  surv  pcclass                                               name  \\\n",
      "0   1     0        3                            Braund, Mr. Owen Harris   \n",
      "1   2     1        1  Cumings, Mrs. John Bradley (Florence Briggs Th...   \n",
      "2   3     1        3                             Heikkinen, Miss. Laina   \n",
      "3   4     1        1       Futrelle, Mrs. Jacques Heath (Lily May Peel)   \n",
      "4   5     0        3                           Allen, Mr. William Henry   \n",
      "\n",
      "      sex   age  sibsp  parch            ticket     fare cabin embarked  \\\n",
      "0    male  22.0      1      0         A/5 21171   7.2500   NaN        S   \n",
      "1  female  38.0      1      0          PC 17599  71.2833   C85        C   \n",
      "2  female  26.0      0      0  STON/O2. 3101282   7.9250   NaN        S   \n",
      "3  female  35.0      1      0            113803  53.1000  C123        S   \n",
      "4    male  35.0      0      0            373450   8.0500   NaN        S   \n",
      "\n",
      "   prediction1  \n",
      "0     0.154839  \n",
      "1     0.976744  \n",
      "2     0.468085  \n",
      "3     0.976744  \n",
      "4     0.154839  \n"
     ]
    }
   ],
   "source": [
    "#mask1: \"male\", \"female\"\n",
    "#mask2: \"1\", \"2\", \"3\"\n",
    "#mask3: \"Age between 0, 15\", \"Age between 0, 15\",\"Age between 0, 15\", \"Age between 0, 15\"\n",
    "\n",
    "def inner_1(row_index):\n",
    "        if str(df.loc[row_index].sex) == \"male\":\n",
    "            mask_1 = mask_male\n",
    "        else:\n",
    "            mask_1 = mask_fem\n",
    "        return mask_1\n",
    "\n",
    "    \n",
    "def inner_2(row_index):\n",
    "        if df.loc[row_index].pcclass == 1:\n",
    "            mask_2 = mask_pc1\n",
    "        elif df.loc[row_index].pcclass == 2:\n",
    "            mask_2 = mask_pc2\n",
    "        else:\n",
    "            mask_2 = mask_pc3\n",
    "        return mask_2\n",
    "    \n",
    "def inner_3(row_index):\n",
    "        if 0 <= float(df.loc[row_index].age) < 15 :\n",
    "            mask_3 = mask_age_0_15\n",
    "        elif 15 <= float(df.loc[row_index].age) < 20:\n",
    "            mask_3 = mask_age_15_20\n",
    "        elif 20 <= float(df.loc[row_index].age) < 40:\n",
    "            mask_3 = mask_age_20_40\n",
    "        elif 40 <= float(df.loc[row_index].age) < 100:\n",
    "                mask_3 = mask_age_40_100\n",
    "        else:\n",
    "            mask_3 = list(df.index)\n",
    "        return mask_3\n",
    "    \n",
    "    \n",
    "\n",
    "\n",
    "\n",
    "\n",
    "\n",
    "def iterater(list_index):\n",
    "    iterated_list = []\n",
    "    for i in list_index:\n",
    "        iterated_list.append(mask_3_merge(inner_1(i), inner_2(i), inner_3(i)))\n",
    "    return iterated_list\n",
    "\n",
    "list_of_indices = list(df.index)\n",
    "\n",
    "pred_surv_rates = pd.DataFrame(iterater(list_of_indices))\n",
    "\n",
    "df[\"prediction1\"] = pred_surv_rates\n",
    "\n",
    "print(df.head())\n",
    "    "
   ]
  },
  {
   "cell_type": "code",
   "execution_count": 118,
   "metadata": {},
   "outputs": [],
   "source": [
    "mask_fem = masking (\"sex\", \"female\", df)\n",
    "mask_male = masking (\"sex\", \"male\", df)"
   ]
  },
  {
   "cell_type": "code",
   "execution_count": 119,
   "metadata": {},
   "outputs": [],
   "source": [
    "mask_pc1 = masking(\"pcclass\", 1, df) \n",
    "mask_pc2 = masking(\"pcclass\", 2, df) \n",
    "mask_pc3 = masking(\"pcclass\", 3, df) "
   ]
  },
  {
   "cell_type": "code",
   "execution_count": 120,
   "metadata": {},
   "outputs": [],
   "source": [
    "mask_age_0_15 = masking_cat(\"age\", 0 , 15, df)\n",
    "mask_age_15_20 = masking_cat(\"age\", 15 , 20, df)\n",
    "mask_age_20_40 = masking_cat(\"age\", 20 , 40, df)\n",
    "mask_age_40_100 = masking_cat(\"age\", 40, 100, df)"
   ]
  },
  {
   "cell_type": "code",
   "execution_count": 60,
   "metadata": {},
   "outputs": [
    {
     "name": "stdout",
     "output_type": "stream",
     "text": [
      "1\n"
     ]
    }
   ],
   "source": [
    "print(int(df.loc[1].pcclass))"
   ]
  },
  {
   "cell_type": "code",
   "execution_count": 109,
   "metadata": {},
   "outputs": [
    {
     "data": {
      "text/plain": [
       "True"
      ]
     },
     "execution_count": 109,
     "metadata": {},
     "output_type": "execute_result"
    }
   ],
   "source": [
    "df.loc[4].pcclass == 3"
   ]
  },
  {
   "cell_type": "code",
   "execution_count": 64,
   "metadata": {
    "scrolled": true
   },
   "outputs": [
    {
     "ename": "TypeError",
     "evalue": "int() argument must be a string, a bytes-like object or a number, not 'RangeIndex'",
     "output_type": "error",
     "traceback": [
      "\u001b[1;31m---------------------------------------------------------------------------\u001b[0m",
      "\u001b[1;31mTypeError\u001b[0m                                 Traceback (most recent call last)",
      "\u001b[1;32m<ipython-input-64-de434415b3b4>\u001b[0m in \u001b[0;36m<module>\u001b[1;34m()\u001b[0m\n\u001b[1;32m----> 1\u001b[1;33m \u001b[0mprint\u001b[0m\u001b[1;33m(\u001b[0m\u001b[0mint\u001b[0m\u001b[1;33m(\u001b[0m\u001b[0mdf\u001b[0m\u001b[1;33m.\u001b[0m\u001b[0mindex\u001b[0m\u001b[1;33m)\u001b[0m\u001b[1;33m)\u001b[0m\u001b[1;33m\u001b[0m\u001b[0m\n\u001b[0m",
      "\u001b[1;31mTypeError\u001b[0m: int() argument must be a string, a bytes-like object or a number, not 'RangeIndex'"
     ]
    }
   ],
   "source": [
    "print(int(df.index))\n"
   ]
  },
  {
   "cell_type": "code",
   "execution_count": 100,
   "metadata": {},
   "outputs": [
    {
     "data": {
      "text/plain": [
       "1"
      ]
     },
     "execution_count": 100,
     "metadata": {},
     "output_type": "execute_result"
    }
   ],
   "source": [
    "df.loc[1].pcclass"
   ]
  }
 ],
 "metadata": {
  "kernelspec": {
   "display_name": "Python 3",
   "language": "python",
   "name": "python3"
  },
  "language_info": {
   "codemirror_mode": {
    "name": "ipython",
    "version": 3
   },
   "file_extension": ".py",
   "mimetype": "text/x-python",
   "name": "python",
   "nbconvert_exporter": "python",
   "pygments_lexer": "ipython3",
   "version": "3.7.0"
  }
 },
 "nbformat": 4,
 "nbformat_minor": 2
}
