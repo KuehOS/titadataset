{
 "cells": [
  {
   "cell_type": "code",
   "execution_count": 1,
   "metadata": {},
   "outputs": [],
   "source": [
    "#import\n",
    "%matplotlib inline\n",
    "\n",
    "import pandas as pd\n",
    "import numpy as np\n",
    "import matplotlib.pyplot as plt\n",
    "import seaborn as sns\n",
    "\n",
    "sns.set(style=\"darkgrid\")\n",
    "#Read\n",
    "df = pd.read_csv(\"train.csv\")\n",
    "#Column names reset\n",
    "df.columns = ['id', 'surv', 'pcclass', 'name', 'sex', 'age', 'sibsp', 'parch','ticket','fare','cabin', 'embarked']"
   ]
  },
  {
   "cell_type": "code",
   "execution_count": 6,
   "metadata": {
    "scrolled": true
   },
   "outputs": [
    {
     "data": {
      "text/plain": [
       "array(['S', 'C', 'Q', nan], dtype=object)"
      ]
     },
     "execution_count": 6,
     "metadata": {},
     "output_type": "execute_result"
    }
   ],
   "source": [
    "df.embarked.unique()"
   ]
  },
  {
   "cell_type": "code",
   "execution_count": 7,
   "metadata": {},
   "outputs": [
    {
     "data": {
      "text/plain": [
       "array([3, 1, 2], dtype=int64)"
      ]
     },
     "execution_count": 7,
     "metadata": {},
     "output_type": "execute_result"
    }
   ],
   "source": [
    "df.pcclass.unique()"
   ]
  },
  {
   "cell_type": "code",
   "execution_count": 51,
   "metadata": {},
   "outputs": [
    {
     "name": "stdout",
     "output_type": "stream",
     "text": [
      "491\n"
     ]
    }
   ],
   "source": [
    "ces = list(df.pcclass)\n",
    "print(ces.count(3))"
   ]
  },
  {
   "cell_type": "code",
   "execution_count": 65,
   "metadata": {},
   "outputs": [
    {
     "name": "stdout",
     "output_type": "stream",
     "text": [
      "     surv  cabin     sex   age embarked  \\\n",
      "10      1     G6  female   4.0        S   \n",
      "75      0  F G73    male  25.0        S   \n",
      "128     1  F E69  female   NaN        C   \n",
      "205     0     G6  female   2.0        S   \n",
      "251     0     G6  female  29.0        S   \n",
      "394     1     G6  female  24.0        S   \n",
      "429     1    E10    male  32.0        S   \n",
      "699     0  F G63    male  42.0        S   \n",
      "715     0  F G73    male  19.0        S   \n",
      "751     1   E121    male   6.0        S   \n",
      "776     0    F38    male   NaN        Q   \n",
      "823     1   E121  female  27.0        S   \n",
      "\n",
      "                                                  name  \n",
      "10                     Sandstrom, Miss. Marguerite Rut  \n",
      "75                             Moen, Mr. Sigurd Hansen  \n",
      "128                                  Peter, Miss. Anna  \n",
      "205                         Strom, Miss. Telma Matilda  \n",
      "251         Strom, Mrs. Wilhelm (Elna Matilda Persson)  \n",
      "394  Sandstrom, Mrs. Hjalmar (Agnes Charlotta Bengt...  \n",
      "429                 Pickard, Mr. Berk (Berk Trembisky)  \n",
      "699           Humblen, Mr. Adolf Mathias Nicolai Olsen  \n",
      "715         Soholt, Mr. Peter Andreas Lauritz Andersen  \n",
      "751                                Moor, Master. Meier  \n",
      "776                                   Tobin, Mr. Roger  \n",
      "823                                 Moor, Mrs. (Beila)  \n"
     ]
    }
   ],
   "source": [
    "def demasking_nan (column, dataframe):\n",
    "    a= dataframe[column]\n",
    "    mask_column = [i for i, e in enumerate(list(a)) if pd.notnull(e) == True]\n",
    "    return list(mask_column)\n",
    "\n",
    "mask_pc3 = masking(\"pcclass\", 3, df) \n",
    "\n",
    "mask_cabin_nan = demasking_nan(\"cabin\", df)\n",
    "\n",
    "mask_cabin_pc3 = mask_merge(mask_pc3, mask_cabin_nan)\n",
    "\n",
    "cabin_nan_pc3 = df.loc[mask_cabin_pc3]\n",
    "\n",
    "\n",
    "print(cabin_nan_pc3[[\"surv\", \"cabin\", \"sex\", \"age\", \"embarked\", \"name\"]])"
   ]
  },
  {
   "cell_type": "code",
   "execution_count": 26,
   "metadata": {},
   "outputs": [
    {
     "data": {
      "text/plain": [
       "array([1, 0, 3, 4, 2, 5, 8], dtype=int64)"
      ]
     },
     "execution_count": 26,
     "metadata": {},
     "output_type": "execute_result"
    }
   ],
   "source": [
    "df.sibsp.unique()"
   ]
  },
  {
   "cell_type": "code",
   "execution_count": 27,
   "metadata": {},
   "outputs": [
    {
     "data": {
      "text/plain": [
       "array([0, 1, 2, 5, 3, 4, 6], dtype=int64)"
      ]
     },
     "execution_count": 27,
     "metadata": {},
     "output_type": "execute_result"
    }
   ],
   "source": [
    "df.parch.unique()"
   ]
  },
  {
   "cell_type": "code",
   "execution_count": 40,
   "metadata": {
    "scrolled": true
   },
   "outputs": [
    {
     "name": "stdout",
     "output_type": "stream",
     "text": [
      "7\n",
      "5\n",
      "18\n",
      "16\n",
      "28\n",
      "209\n",
      "608\n"
     ]
    }
   ],
   "source": [
    "sib_list = list(df.sibsp)\n",
    "print(sib_list.count(8))\n",
    "print(sib_list.count(5))\n",
    "print(sib_list.count(4))\n",
    "print(sib_list.count(3))\n",
    "print(sib_list.count(2))\n",
    "print(sib_list.count(1))\n",
    "print(sib_list.count(0))"
   ]
  },
  {
   "cell_type": "code",
   "execution_count": 41,
   "metadata": {},
   "outputs": [
    {
     "name": "stdout",
     "output_type": "stream",
     "text": [
      "1\n",
      "5\n",
      "4\n",
      "5\n",
      "80\n",
      "118\n",
      "678\n"
     ]
    }
   ],
   "source": [
    "par_list = list(df.parch)\n",
    "print(par_list.count(6))\n",
    "print(par_list.count(5))\n",
    "print(par_list.count(4))\n",
    "print(par_list.count(3))\n",
    "print(par_list.count(2))\n",
    "print(par_list.count(1))\n",
    "print(par_list.count(0))"
   ]
  },
  {
   "cell_type": "code",
   "execution_count": 42,
   "metadata": {},
   "outputs": [],
   "source": [
    "def masking (column, attribute, dataframe):\n",
    "    a= dataframe[column]\n",
    "    mask_column = [i for i, e in enumerate(list(a)) if e == attribute]\n",
    "    return list(mask_column)\n",
    "\n",
    "def mask_merge(list1, list2):\n",
    "    merged_mask = []\n",
    "    for a in list1:\n",
    "        if a in list2:\n",
    "            merged_mask.append(a)\n",
    "    return merged_mask\n",
    "\n",
    "#conditional survival rate\n",
    "def con_surv(mask):\n",
    "    df_new = df.loc[mask]\n",
    "    con_sur_rate = df_new.surv.sum()/len(list(df_new.surv))\n",
    "    return con_sur_rate"
   ]
  },
  {
   "cell_type": "code",
   "execution_count": 48,
   "metadata": {},
   "outputs": [],
   "source": [
    "mask_sing1 = masking(\"sibsp\", 0, df)\n",
    "mask_sing2 = masking(\"parch\", 0, df)\n",
    "\n",
    "mask_sing = mask_merge(mask_sing1, mask_sing2)\n",
    "\n",
    "bes = df.name.loc[mask_sing]\n"
   ]
  },
  {
   "cell_type": "code",
   "execution_count": 70,
   "metadata": {},
   "outputs": [
    {
     "name": "stdout",
     "output_type": "stream",
     "text": [
      "0.5117370892018779\n",
      "0.6981132075471698\n",
      "0.78\n",
      "0.3\n",
      "53\n",
      "50\n",
      "110\n"
     ]
    }
   ],
   "source": [
    "def masking2 (column, attribute, dataframe):\n",
    "    a= dataframe[column]\n",
    "    mask_column = [i for i, e in enumerate(list(a)) if e != attribute]\n",
    "    return list(mask_column)\n",
    "\n",
    "mask_parch_high = masking2(\"parch\", 0, df)\n",
    "ves = con_surv(mask_parch_high)\n",
    "print(ves)\n",
    "\n",
    "mask_pc1 = masking(\"pcclass\", 1, df)\n",
    "mask_pc2 = masking(\"pcclass\", 2, df)\n",
    "\n",
    "m1 = mask_merge(mask_pc1, mask_parch_high)\n",
    "m2 = mask_merge(mask_pc2, mask_parch_high)\n",
    "m3 = mask_merge(mask_pc3, mask_parch_high)\n",
    "\n",
    "zes = con_surv(m1)\n",
    "des = con_surv(m2)\n",
    "hes = con_surv(m3)\n",
    "\n",
    "print(zes)\n",
    "print(des)\n",
    "print(hes)\n",
    "\n",
    "print(len(m1))\n",
    "print(len(m2))\n",
    "print(len(m3))\n",
    "\n"
   ]
  },
  {
   "cell_type": "code",
   "execution_count": 71,
   "metadata": {},
   "outputs": [
    {
     "name": "stdout",
     "output_type": "stream",
     "text": [
      "0.4664310954063604\n",
      "0.6981132075471698\n",
      "0.78\n",
      "0.3\n",
      "79\n",
      "64\n",
      "140\n"
     ]
    }
   ],
   "source": [
    "mask_sibsp_high = masking2(\"sibsp\", 0, df)\n",
    "vas = con_surv(mask_sibsp_high)\n",
    "print(vas)\n",
    "\n",
    "\n",
    "n1 = mask_merge(mask_pc1, mask_sibsp_high)\n",
    "n2 = mask_merge(mask_pc2, mask_sibsp_high)\n",
    "n3 = mask_merge(mask_pc3, mask_sibsp_high)\n",
    "\n",
    "zas = con_surv(m1)\n",
    "das = con_surv(m2)\n",
    "has = con_surv(m3)\n",
    "\n",
    "print(zas)\n",
    "print(das)\n",
    "print(has)\n",
    "\n",
    "print(len(n1))\n",
    "print(len(n2))\n",
    "print(len(n3))"
   ]
  },
  {
   "cell_type": "code",
   "execution_count": 80,
   "metadata": {},
   "outputs": [
    {
     "name": "stdout",
     "output_type": "stream",
     "text": [
      "0.31521739130434784\n",
      "0.43452380952380953\n",
      "0.4675324675324675\n",
      "\n",
      "0.1972049689440994\n",
      "0.2546583850931677\n",
      "0.5481366459627329\n",
      "\n",
      "0.5059523809523809\n",
      "0.10119047619047619\n",
      "0.39285714285714285\n",
      "\n",
      "0.025974025974025976\n",
      "0.025974025974025976\n",
      "0.935064935064935\n",
      "\n",
      "0.7244094488188977\n",
      "0.1889763779527559\n",
      "0.08661417322834646\n"
     ]
    }
   ],
   "source": [
    "def con_fem(mask):\n",
    "    df_new = df.loc[mask]\n",
    "    f = list(df_new.sex)\n",
    "    con_fem_rate = f.count(\"female\")/len(f)\n",
    "    return con_fem_rate\n",
    "\n",
    "def con_pcclass(mask, pcclass):\n",
    "    df_new = df.loc[mask]\n",
    "    f = list(df_new.pcclass)\n",
    "    con_pcclass_rate = f.count(pcclass)/len(f)\n",
    "    return con_pcclass_rate\n",
    "\n",
    "mask_S = masking (\"embarked\", \"S\", df)\n",
    "mask_C = masking (\"embarked\", \"C\", df)\n",
    "mask_Q = masking (\"embarked\", \"Q\", df)\n",
    "\n",
    "fes1 = con_fem(mask_S)\n",
    "fes2 = con_fem(mask_C)\n",
    "fes3 = con_fem(mask_Q)\n",
    "les11 = con_pcclass(mask_S, 1)\n",
    "les12 = con_pcclass(mask_S, 2)\n",
    "les13 = con_pcclass(mask_S, 3)\n",
    "les21 = con_pcclass(mask_C, 1)\n",
    "les22 = con_pcclass(mask_C, 2)\n",
    "les23 = con_pcclass(mask_C, 3)\n",
    "les31 = con_pcclass(mask_Q, 1)\n",
    "les32 = con_pcclass(mask_Q, 2)\n",
    "les33 = con_pcclass(mask_Q, 3)\n",
    "\n",
    "jes = list(df.embarked)\n",
    "\n",
    "es1_all=jes.count(\"S\")/(len(jes)-2)\n",
    "es2_all=jes.count(\"C\")/(len(jes)-2)\n",
    "es3_all=jes.count(\"Q\")/(len(jes)-2)\n",
    "\n",
    "print(fes1)\n",
    "print(fes2)\n",
    "print(fes3)\n",
    "print()\n",
    "print(les11)\n",
    "print(les12)\n",
    "print(les13)\n",
    "print()\n",
    "print(les21)\n",
    "print(les22)\n",
    "print(les23)\n",
    "print()\n",
    "print(les31)\n",
    "print(les31)\n",
    "print(les33)\n",
    "print()\n",
    "print(es1_all)\n",
    "print(es2_all)\n",
    "print(es3_all)\n"
   ]
  },
  {
   "cell_type": "code",
   "execution_count": null,
   "metadata": {},
   "outputs": [],
   "source": [
    "0.4351851851851852\n",
    "0.41304347826086957\n",
    "0.29327902240325865\n",
    "1.0\n",
    "1.0\n",
    "1.0\n",
    "0.24242424242424243\n",
    "0.20650953984287318\n",
    "0.5510662177328844"
   ]
  }
 ],
 "metadata": {
  "kernelspec": {
   "display_name": "Python 3",
   "language": "python",
   "name": "python3"
  },
  "language_info": {
   "codemirror_mode": {
    "name": "ipython",
    "version": 3
   },
   "file_extension": ".py",
   "mimetype": "text/x-python",
   "name": "python",
   "nbconvert_exporter": "python",
   "pygments_lexer": "ipython3",
   "version": "3.7.0"
  }
 },
 "nbformat": 4,
 "nbformat_minor": 2
}
