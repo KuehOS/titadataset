{
 "cells": [
  {
   "cell_type": "code",
   "execution_count": 1,
   "metadata": {},
   "outputs": [],
   "source": [
    "#Imports\n",
    "%matplotlib inline\n",
    "\n",
    "import pandas as pd\n",
    "import numpy as np\n",
    "import matplotlib.pyplot as plt\n",
    "import seaborn as sns\n",
    "\n",
    "sns.set(style=\"darkgrid\")"
   ]
  },
  {
   "cell_type": "code",
   "execution_count": 2,
   "metadata": {},
   "outputs": [],
   "source": [
    "#Read\n",
    "df = pd.read_csv(\"train.csv\")"
   ]
  },
  {
   "cell_type": "code",
   "execution_count": 3,
   "metadata": {},
   "outputs": [],
   "source": [
    "#Column names reset\n",
    "df.columns = ['id', 'surv', 'pcclass', 'name', 'sex', 'age', 'sibsp', 'parch','ticket','fare','cabin', 'embarked']"
   ]
  },
  {
   "cell_type": "markdown",
   "metadata": {},
   "source": [
    "# masks"
   ]
  },
  {
   "cell_type": "code",
   "execution_count": 24,
   "metadata": {},
   "outputs": [],
   "source": [
    "#female and male masks\n",
    "mask_fem = masking (\"sex\", \"female\", df)\n",
    "mask_male = masking (\"sex\", \"male\", df)\n"
   ]
  },
  {
   "cell_type": "code",
   "execution_count": 28,
   "metadata": {},
   "outputs": [],
   "source": [
    "#Embarkment for all unique values see Testing Notebook)\n",
    "mask_S = masking (\"embarked\", \"S\", df)\n",
    "mask_C = masking (\"embarked\", \"C\", df)\n",
    "mask_Q = masking (\"embarked\", \"Q\", df)"
   ]
  },
  {
   "cell_type": "code",
   "execution_count": 30,
   "metadata": {},
   "outputs": [],
   "source": [
    "#Passenger Class \n",
    "mask_pc1 = masking(\"pcclass\", 1, df) \n",
    "mask_pc2 = masking(\"pcclass\", 2, df) \n",
    "mask_pc3 = masking(\"pcclass\", 3, df) "
   ]
  },
  {
   "cell_type": "markdown",
   "metadata": {},
   "source": [
    "# functions"
   ]
  },
  {
   "cell_type": "code",
   "execution_count": 4,
   "metadata": {},
   "outputs": [],
   "source": [
    "#mask_merge -- Merges two masks, so that only indices of rows that fullfill conditions of both masks are  \n",
    "def mask_merge(list1, list2):\n",
    "    merged_mask = []\n",
    "    for a in list1:\n",
    "        if a in list2:\n",
    "            merged_mask.append(a)\n",
    "    return merged_mask"
   ]
  },
  {
   "cell_type": "code",
   "execution_count": 5,
   "metadata": {},
   "outputs": [],
   "source": [
    "#conditional survival rate\n",
    "def con_surv(mask):\n",
    "    df_new = df.loc[mask]\n",
    "    con_sur_rate = df_new.surv.sum()/len(list(df_new.surv))\n",
    "    return con_sur_rate"
   ]
  },
  {
   "cell_type": "code",
   "execution_count": 22,
   "metadata": {},
   "outputs": [],
   "source": [
    "#creating masks\n",
    "def masking (column, attribute, dataframe):\n",
    "    a= dataframe[column]\n",
    "    mask_column = [i for i, e in enumerate(list(a)) if e == attribute]\n",
    "    return list(mask_column)\n"
   ]
  },
  {
   "cell_type": "code",
   "execution_count": null,
   "metadata": {},
   "outputs": [],
   "source": [
    "#first step before creating a nan-free mask\n",
    "def demasking_nan (column, dataframe):\n",
    "    a= dataframe[column]\n",
    "    mask_column = [i for i, e in enumerate(list(a)) if pd.notnull(e) == True]\n",
    "    return list(mask_column)"
   ]
  },
  {
   "cell_type": "markdown",
   "metadata": {},
   "source": [
    "# condtitional survival rates (without categories)"
   ]
  },
  {
   "cell_type": "code",
   "execution_count": 26,
   "metadata": {},
   "outputs": [
    {
     "name": "stdout",
     "output_type": "stream",
     "text": [
      "0.7420382165605095\n",
      "0.18890814558058924\n"
     ]
    }
   ],
   "source": [
    "#Female and male\n",
    "surv_rate_fem = con_surv(mask_fem)\n",
    "surv_rate_male = con_surv(mask_male)\n",
    "print(surv_rate_fem)\n",
    "print(surv_rate_male)"
   ]
  },
  {
   "cell_type": "code",
   "execution_count": 29,
   "metadata": {},
   "outputs": [
    {
     "name": "stdout",
     "output_type": "stream",
     "text": [
      "0.33695652173913043\n",
      "0.38961038961038963\n",
      "0.5535714285714286\n"
     ]
    }
   ],
   "source": [
    "#Embarkment Column\n",
    "surv_rate_S = con_surv(mask_S)\n",
    "surv_rate_Q = con_surv(mask_Q)\n",
    "surv_rate_C = con_surv(mask_C)\n",
    "print(surv_rate_S)\n",
    "print(surv_rate_Q)\n",
    "print(surv_rate_C)"
   ]
  },
  {
   "cell_type": "code",
   "execution_count": 31,
   "metadata": {},
   "outputs": [
    {
     "name": "stdout",
     "output_type": "stream",
     "text": [
      "0.6296296296296297\n",
      "0.47282608695652173\n",
      "0.24236252545824846\n"
     ]
    }
   ],
   "source": [
    "#Passenger Class Column\n",
    "surv_rate_pclass1 = con_surv(mask_pc1) \n",
    "surv_rate_pclass2 = con_surv(mask_pc2) \n",
    "surv_rate_pcalss3 = con_surv(mask_pc3) \n",
    "print(surv_rate_pclass1)\n",
    "print(surv_rate_pclass2)\n",
    "print(surv_rate_pcalss3) "
   ]
  },
  {
   "cell_type": "code",
   "execution_count": null,
   "metadata": {},
   "outputs": [],
   "source": []
  },
  {
   "cell_type": "code",
   "execution_count": null,
   "metadata": {},
   "outputs": [],
   "source": []
  }
 ],
 "metadata": {
  "kernelspec": {
   "display_name": "Python 3",
   "language": "python",
   "name": "python3"
  },
  "language_info": {
   "codemirror_mode": {
    "name": "ipython",
    "version": 3
   },
   "file_extension": ".py",
   "mimetype": "text/x-python",
   "name": "python",
   "nbconvert_exporter": "python",
   "pygments_lexer": "ipython3",
   "version": "3.7.0"
  }
 },
 "nbformat": 4,
 "nbformat_minor": 2
}
